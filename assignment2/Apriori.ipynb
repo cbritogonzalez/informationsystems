{
 "cells": [
  {
   "cell_type": "code",
   "execution_count": 35,
   "id": "3918607f-da82-445d-8bd2-2f980d9b036b",
   "metadata": {},
   "outputs": [],
   "source": [
    "## Apriori algorithm\n",
    "import pandas as pd\n",
    "from pandas import DataFrame"
   ]
  },
  {
   "cell_type": "code",
   "execution_count": 55,
   "metadata": {},
   "outputs": [],
   "source": [
    "# load csv\n",
    "def conv(val):\n",
    "    if val == 't':\n",
    "        return 1\n",
    "    else:\n",
    "        return 0\n",
    "\n",
    "def load_csv(csv_name: str) -> DataFrame:\n",
    "    csv_header_len = len(pd.read_csv(csv_name, index_col=0, nrows=0).columns.tolist()) + 1\n",
    "    csv_file = pd.read_csv(csv_name, engine=\"python\", converters={k: conv for k in range(csv_header_len)})\n",
    "    return csv_file"
   ]
  },
  {
   "cell_type": "code",
   "execution_count": 56,
   "id": "2bcf02fe-eaf6-47ac-b5cb-a96abf281c54",
   "metadata": {},
   "outputs": [
    {
     "name": "stdout",
     "output_type": "stream",
     "text": [
      "      Instant_food_products  UHT_milk  abrasive_cleaner  artif__sweetener  \\\n",
      "0                         0         0                 0                 0   \n",
      "1                         0         0                 0                 0   \n",
      "2                         0         0                 0                 0   \n",
      "3                         0         0                 0                 0   \n",
      "4                         0         0                 0                 0   \n",
      "...                     ...       ...               ...               ...   \n",
      "9830                      0         0                 0                 0   \n",
      "9831                      0         0                 0                 0   \n",
      "9832                      0         0                 0                 0   \n",
      "9833                      0         0                 0                 0   \n",
      "9834                      0         0                 0                 0   \n",
      "\n",
      "      baby_cosmetics  baby_food  bags  baking_powder  bathroom_cleaner  beef  \\\n",
      "0                  0          0     0              0                 0     0   \n",
      "1                  0          0     0              0                 0     0   \n",
      "2                  0          0     0              0                 0     0   \n",
      "3                  0          0     0              0                 0     0   \n",
      "4                  0          0     0              0                 0     0   \n",
      "...              ...        ...   ...            ...               ...   ...   \n",
      "9830               0          0     0              0                 0     1   \n",
      "9831               0          0     0              0                 0     0   \n",
      "9832               0          0     0              0                 0     0   \n",
      "9833               0          0     0              0                 0     0   \n",
      "9834               0          0     0              0                 0     0   \n",
      "\n",
      "      ...  turkey  vinegar  waffles  whipped_sour_cream  whisky  white_bread  \\\n",
      "0     ...       0        0        0                   0       0            0   \n",
      "1     ...       0        0        0                   0       0            0   \n",
      "2     ...       0        0        0                   0       0            0   \n",
      "3     ...       0        0        0                   0       0            0   \n",
      "4     ...       0        0        0                   0       0            0   \n",
      "...   ...     ...      ...      ...                 ...     ...          ...   \n",
      "9830  ...       0        0        0                   1       0            0   \n",
      "9831  ...       0        0        0                   0       0            0   \n",
      "9832  ...       0        0        0                   0       0            0   \n",
      "9833  ...       0        0        0                   0       0            0   \n",
      "9834  ...       0        1        0                   0       0            0   \n",
      "\n",
      "      white_wine  whole_milk  yogurt  zwieback  \n",
      "0              0           0       0         0  \n",
      "1              0           0       1         0  \n",
      "2              0           1       0         0  \n",
      "3              0           0       1         0  \n",
      "4              0           1       0         0  \n",
      "...          ...         ...     ...       ...  \n",
      "9830           0           1       0         0  \n",
      "9831           0           0       0         0  \n",
      "9832           0           0       1         0  \n",
      "9833           0           0       0         0  \n",
      "9834           0           0       0         0  \n",
      "\n",
      "[9835 rows x 169 columns]\n"
     ]
    }
   ],
   "source": [
    "def main():\n",
    "    #Run apriori\n",
    "    #read file and format\n",
    "    #Calculate Support 1st, check what remains\n",
    "    #self join, calculate support and confidence, prune (do not generate any subsets of removed items, they will not appear again)\n",
    "    #Keep going until no more\n",
    "    print()\n",
    "\n",
    "if __name__==\"__main__\":\n",
    "    data = load_csv(\"./myDataFile.csv\")\n",
    "    print(data)"
   ]
  }
 ],
 "metadata": {
  "kernelspec": {
   "display_name": "Python 3 (ipykernel)",
   "language": "python",
   "name": "python3"
  },
  "language_info": {
   "codemirror_mode": {
    "name": "ipython",
    "version": 3
   },
   "file_extension": ".py",
   "mimetype": "text/x-python",
   "name": "python",
   "nbconvert_exporter": "python",
   "pygments_lexer": "ipython3",
   "version": "3.10.12"
  }
 },
 "nbformat": 4,
 "nbformat_minor": 5
}
